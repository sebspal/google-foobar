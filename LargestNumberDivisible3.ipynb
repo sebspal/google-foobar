{
 "cells": [
  {
   "cell_type": "code",
   "execution_count": 45,
   "metadata": {},
   "outputs": [],
   "source": [
    "def valueToReturn(l, queue0=[], queue1=[], queue2=[]):\n",
    "    aux = []\n",
    "    while queue0:\n",
    "        aux.append(queue0.pop())\n",
    "    while queue1:\n",
    "        aux.append(queue1.pop())\n",
    "    while queue2:\n",
    "        aux.append(queue2.pop())\n",
    "    if aux:\n",
    "        aux.sort(reverse=True)\n",
    "        return ''.join(str(i) for i in aux)\n",
    "    else: \n",
    "        return ''.join(str(i) for i in l)\n",
    "\n",
    "\n",
    "def solution(l):\n",
    "    l.sort(reverse=True)\n",
    "    \n",
    "    res = 0\n",
    "    \n",
    "    queue0, queue1, queue2 = [], [], []\n",
    "    \n",
    "    s = sum(l)\n",
    "    \n",
    "    if(s%3 == 0 and len(l) > 0):\n",
    "        res = int(valueToReturn(l))\n",
    "        return res\n",
    "    \n",
    "    for i in range(len(l)):\n",
    "        if(l[i]%3 == 0):\n",
    "            queue0.append(l[i])\n",
    "        elif(l[i]%3 == 1):\n",
    "            queue1.append(l[i])\n",
    "        else:\n",
    "            queue2.append(l[i])\n",
    "    \n",
    "    if(s%3 == 1):\n",
    "        if queue1:\n",
    "            queue1.pop()\n",
    "        else:\n",
    "            if queue2:\n",
    "                queue2.pop()\n",
    "            else:\n",
    "                return 0\n",
    "            if queue2:\n",
    "                queue2.pop()\n",
    "            else:\n",
    "                return 0          \n",
    "    elif(s%3 == 2):\n",
    "        if queue2:\n",
    "            queue2.pop()\n",
    "        else:\n",
    "            if queue1:\n",
    "                queue1.pop()\n",
    "            else:\n",
    "                return 0\n",
    "            if queue1:\n",
    "                queue1.pop()\n",
    "            else:\n",
    "                return 0\n",
    "            \n",
    "    if len(l) == 1 and s%3 != 0:\n",
    "        return res\n",
    "        \n",
    "    res = valueToReturn([], queue0, queue1, queue2)\n",
    "    \n",
    "    if len(res) > 0:\n",
    "        res = int(res)\n",
    "    else:\n",
    "        return 0\n",
    "    \n",
    "    return res"
   ]
  },
  {
   "cell_type": "code",
   "execution_count": 46,
   "metadata": {},
   "outputs": [
    {
     "name": "stdout",
     "output_type": "stream",
     "text": [
      "([], [], [])\n"
     ]
    },
    {
     "data": {
      "text/plain": [
       "4311"
      ]
     },
     "execution_count": 46,
     "metadata": {},
     "output_type": "execute_result"
    }
   ],
   "source": [
    "solution([3, 1, 4, 1])"
   ]
  },
  {
   "cell_type": "code",
   "execution_count": 47,
   "metadata": {},
   "outputs": [
    {
     "name": "stdout",
     "output_type": "stream",
     "text": [
      "([9, 3], [4, 1, 1], [])\n"
     ]
    },
    {
     "data": {
      "text/plain": [
       "94311"
      ]
     },
     "execution_count": 47,
     "metadata": {},
     "output_type": "execute_result"
    }
   ],
   "source": [
    "solution([3, 1, 4, 1, 5, 9])"
   ]
  },
  {
   "cell_type": "code",
   "execution_count": 48,
   "metadata": {},
   "outputs": [
    {
     "name": "stdout",
     "output_type": "stream",
     "text": [
      "([6, 3], [], [])\n"
     ]
    },
    {
     "data": {
      "text/plain": [
       "63"
      ]
     },
     "execution_count": 48,
     "metadata": {},
     "output_type": "execute_result"
    }
   ],
   "source": [
    "solution([3, 6, 22])"
   ]
  },
  {
   "cell_type": "code",
   "execution_count": 49,
   "metadata": {},
   "outputs": [
    {
     "name": "stdout",
     "output_type": "stream",
     "text": [
      "pop q2\n",
      "pop q2\n",
      "([], [], [])\n"
     ]
    },
    {
     "data": {
      "text/plain": [
       "0"
      ]
     },
     "execution_count": 49,
     "metadata": {},
     "output_type": "execute_result"
    }
   ],
   "source": [
    "solution([2, 2])"
   ]
  },
  {
   "cell_type": "code",
   "execution_count": null,
   "metadata": {},
   "outputs": [],
   "source": []
  }
 ],
 "metadata": {
  "kernelspec": {
   "display_name": "Python 2",
   "language": "python",
   "name": "python2"
  },
  "language_info": {
   "codemirror_mode": {
    "name": "ipython",
    "version": 2
   },
   "file_extension": ".py",
   "mimetype": "text/x-python",
   "name": "python",
   "nbconvert_exporter": "python",
   "pygments_lexer": "ipython2",
   "version": "2.7.17"
  }
 },
 "nbformat": 4,
 "nbformat_minor": 4
}

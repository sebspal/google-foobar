{
 "cells": [
  {
   "cell_type": "code",
   "execution_count": 4,
   "metadata": {
    "scrolled": true
   },
   "outputs": [],
   "source": [
    "code_table = {\n",
    "    'a': '100000',\n",
    "    'b': '110000',\n",
    "    'c': '100100',\n",
    "    'd': '100110',\n",
    "    'e': '100010',\n",
    "    'f': '110100',\n",
    "    'g': '110110',\n",
    "    'h': '110010',\n",
    "    'i': '010100',\n",
    "    'j': '010110',\n",
    "    'k': '101000',\n",
    "    'l': '111000',\n",
    "    'm': '101100',\n",
    "    'n': '101110',\n",
    "    'o': '101010',\n",
    "    'p': '111100',\n",
    "    'q': '111110',\n",
    "    'r': '111010',\n",
    "    's': '011100',\n",
    "    't': '011110',\n",
    "    'u': '101001',\n",
    "    'v': '111001',\n",
    "    'w': '010111',\n",
    "    'x': '101101',\n",
    "    'y': '101111',\n",
    "    'z': '101011',\n",
    "    'M': '000001',\n",
    "    ' ': '000000'}\n",
    "\n",
    "def solution(s):\n",
    "    a = ''\n",
    "\n",
    "    for i in s:\n",
    "        if i.isupper():\n",
    "            a+=code_table['M']\n",
    "            a+=code_table[i.lower()]\n",
    "        else:\n",
    "            a+=code_table[i]\n",
    "    return a"
   ]
  },
  {
   "cell_type": "code",
   "execution_count": 5,
   "metadata": {},
   "outputs": [
    {
     "data": {
      "text/plain": [
       "'100100101010100110100010'"
      ]
     },
     "execution_count": 5,
     "metadata": {},
     "output_type": "execute_result"
    }
   ],
   "source": [
    "solution('code')"
   ]
  },
  {
   "cell_type": "code",
   "execution_count": 6,
   "metadata": {},
   "outputs": [
    {
     "data": {
      "text/plain": [
       "'000001011110110010100010000000111110101001010100100100101000000000110000111010101010010111101110000000110100101010101101000000010110101001101100111100011100000000101010111001100010111010000000011110110010100010000000111000100000101011101111000000100110101010110110'"
      ]
     },
     "execution_count": 6,
     "metadata": {},
     "output_type": "execute_result"
    }
   ],
   "source": [
    "solution('The quick brown fox jumps over the lazy dog')"
   ]
  },
  {
   "cell_type": "code",
   "execution_count": null,
   "metadata": {
    "collapsed": true
   },
   "outputs": [],
   "source": []
  }
 ],
 "metadata": {
  "kernelspec": {
   "display_name": "Python 2",
   "language": "python",
   "name": "python2"
  },
  "language_info": {
   "codemirror_mode": {
    "name": "ipython",
    "version": 2
   },
   "file_extension": ".py",
   "mimetype": "text/x-python",
   "name": "python",
   "nbconvert_exporter": "python",
   "pygments_lexer": "ipython2",
   "version": "2.7.13"
  }
 },
 "nbformat": 4,
 "nbformat_minor": 2
}

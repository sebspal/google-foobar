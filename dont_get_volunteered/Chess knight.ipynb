{
 "cells": [
  {
   "cell_type": "code",
   "execution_count": 36,
   "metadata": {},
   "outputs": [],
   "source": [
    "import numpy as np\n",
    "\n",
    "table = np.array([np.arange(0, 8),\n",
    "                 np.arange(8, 16),\n",
    "                 np.arange(16, 24),\n",
    "                 np.arange(24, 32),\n",
    "                 np.arange(32, 40), \n",
    "                 np.arange(40, 48), \n",
    "                 np.arange(48, 56),\n",
    "                 np.arange(56, 64)])\n",
    "\n",
    "\n",
    "class distance:\n",
    "    def __init__(self, x=0 , y=0, dist=0):\n",
    "        self.x = x\n",
    "        self.y = y\n",
    "        self.dist = dist\n",
    "        \n",
    "def onTable(x, y, n=8):\n",
    "    if (x >= 0 and x < n and y >= 0 and y < n):\n",
    "        return True\n",
    "    else: \n",
    "        return False\n",
    "    \n",
    "def findIndex(src, dest):\n",
    "    return list(np.concatenate(np.where(table == src))), list(np.concatenate(np.where(table == dest)))\n",
    "\n",
    "def solution(src, dest):\n",
    "    knight, target = findIndex(src, dest)\n",
    "    \n",
    "    # directions\n",
    "    dx = [2, 2, -2, -2, 1, 1, -1, -1]\n",
    "    dy = [1, -1, 1, -1, 2, -2, 2, -2]\n",
    "    \n",
    "    visited = np.zeros((8, 8), dtype=bool)\n",
    "    \n",
    "    visited[knight[0]][knight[1]] = True\n",
    "    \n",
    "    queue = []\n",
    "    \n",
    "    queue.append(distance(knight[0], knight[1], 0))\n",
    "    \n",
    "    while(queue>0):\n",
    "        \n",
    "        current_cell = queue[0]\n",
    "        queue.pop(0)\n",
    "        \n",
    "        if(current_cell.x == target[0] and current_cell.y == target[1]):\n",
    "            return current_cell.dist\n",
    "        \n",
    "        for i in range(8):\n",
    "            current_x = current_cell.x + dx[i]\n",
    "            current_y = current_cell.y + dy[i]\n",
    "            \n",
    "            if(onTable(current_x, current_y) and not visited[current_x][current_y]):\n",
    "                visited[current_x][current_y] = True\n",
    "                queue.append(distance(current_x, current_y, current_cell.dist+1))"
   ]
  },
  {
   "cell_type": "code",
   "execution_count": 40,
   "metadata": {},
   "outputs": [
    {
     "data": {
      "text/plain": [
       "3"
      ]
     },
     "execution_count": 40,
     "metadata": {},
     "output_type": "execute_result"
    }
   ],
   "source": [
    "solution(0, 1)"
   ]
  },
  {
   "cell_type": "code",
   "execution_count": null,
   "metadata": {
    "collapsed": true
   },
   "outputs": [],
   "source": []
  }
 ],
 "metadata": {
  "kernelspec": {
   "display_name": "Python 2",
   "language": "python",
   "name": "python2"
  },
  "language_info": {
   "codemirror_mode": {
    "name": "ipython",
    "version": 2
   },
   "file_extension": ".py",
   "mimetype": "text/x-python",
   "name": "python",
   "nbconvert_exporter": "python",
   "pygments_lexer": "ipython2",
   "version": "2.7.13"
  }
 },
 "nbformat": 4,
 "nbformat_minor": 2
}

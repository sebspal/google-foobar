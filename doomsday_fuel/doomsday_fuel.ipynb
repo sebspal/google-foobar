{
 "cells": [
  {
   "cell_type": "code",
   "execution_count": 7,
   "metadata": {
    "collapsed": true
   },
   "outputs": [],
   "source": [
    "import numpy as np\n",
    "from fractions import Fraction\n",
    "\n",
    "def solution(mat):\n",
    "    # matrix attributes\n",
    "    matsize = len(mat)\n",
    "    rowsum = [sum(r) for r in mat]\n",
    "\n",
    "    if rowsum[0] == 0:\n",
    "        return [1, 1]\n",
    "\n",
    "    # dict indicating which row has all 0\n",
    "    dictrz = dict(zip(list(i for i in range(len(mat))), \n",
    "                    list(0 if i == 0 else 1 for i in rowsum)))\n",
    "        # Sorted\n",
    "    dictrzs = {k: v for k, v in sorted(dictrz.items(), key=lambda item: item[1])}\n",
    "\n",
    "    # Number of rows with all zero vs. not\n",
    "    numallz = list(dictrz.values()).count(0)\n",
    "    numnonz = len(mat) - numallz\n",
    "\n",
    "    # transform matrix to Absorbing Markov Chain standard form\n",
    "    arr = np.array(mat)\n",
    "    # Move rows with all 0 to top\n",
    "    arrR = arr[list(dictrzs.keys()), :]\n",
    "    # shifting column order correspondingly\n",
    "    arrRC = arrR[:, list(dictrzs.keys())]\n",
    "\n",
    "    # Replace number with fraction\n",
    "    newrowsum = [sum(r) for r in arrRC]\n",
    "    newmat = []\n",
    "    for i in range(len(arrRC)):\n",
    "        newmat.append(list(map(lambda x: 0 if newrowsum[i] == 0 \n",
    "                            else float(x) / newrowsum[i], arrRC[i])))\n",
    "\n",
    "    newarr = np.array(newmat)\n",
    "\n",
    "    # Obtain FR\n",
    "    Q = newarr[numallz:, numallz:]\n",
    "    R = newarr[numallz:, :numallz]\n",
    "    ImQ = np.subtract(np.identity(numnonz), Q)\n",
    "    F = np.linalg.inv(ImQ)\n",
    "    FR = np.matmul(F, R)\n",
    "    # Fractionize FR\n",
    "    FRf = []\n",
    "    for i in range(numnonz):\n",
    "        FRf.append([Fraction.from_float(x).limit_denominator(max_denominator = 2**32) for x in FR[i]])\n",
    "\n",
    "        # Transform final result\n",
    "    maxd = max(list(map(lambda x: x.denominator, FRf[0])))\n",
    "    indv = list(map(lambda x: (x*maxd).numerator, FRf[0]))\n",
    "    return list(indv + [maxd])"
   ]
  },
  {
   "cell_type": "code",
   "execution_count": 8,
   "metadata": {},
   "outputs": [
    {
     "data": {
      "text/plain": [
       "[0, 0, 0, 1]"
      ]
     },
     "execution_count": 8,
     "metadata": {},
     "output_type": "execute_result"
    }
   ],
   "source": [
    "solution([[0, 2, 1, 0, 0], [0, 0, 0, 3, 4], [0, 0, 0, 0, 0], [0, 0, 0, 0,0], [0, 0, 0, 0, 0]])"
   ]
  },
  {
   "cell_type": "code",
   "execution_count": 9,
   "metadata": {},
   "outputs": [
    {
     "data": {
      "text/plain": [
       "[0, 0, 0, 0, 1]"
      ]
     },
     "execution_count": 9,
     "metadata": {},
     "output_type": "execute_result"
    }
   ],
   "source": [
    "solution([[0, 1, 0, 0, 0, 1], [4, 0, 0, 3, 2, 0], [0, 0, 0, 0, 0, 0], [0, 0, 0, 0, 0, 0], [0, 0, 0, 0, 0, 0], [0, 0, 0, 0, 0, 0]])"
   ]
  },
  {
   "cell_type": "code",
   "execution_count": null,
   "metadata": {
    "collapsed": true
   },
   "outputs": [],
   "source": []
  }
 ],
 "metadata": {
  "kernelspec": {
   "display_name": "Python 2",
   "language": "python",
   "name": "python2"
  },
  "language_info": {
   "codemirror_mode": {
    "name": "ipython",
    "version": 2
   },
   "file_extension": ".py",
   "mimetype": "text/x-python",
   "name": "python",
   "nbconvert_exporter": "python",
   "pygments_lexer": "ipython2",
   "version": "2.7.13"
  }
 },
 "nbformat": 4,
 "nbformat_minor": 2
}
